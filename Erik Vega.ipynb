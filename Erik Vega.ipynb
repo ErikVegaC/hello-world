{
 "cells": [
  {
   "cell_type": "markdown",
   "id": "162938fb",
   "metadata": {},
   "source": [
    "# Erik Vega Cervantes"
   ]
  },
  {
   "cell_type": "markdown",
   "id": "37111f32",
   "metadata": {},
   "source": [
    "## Estudiante de ingeniería civil "
   ]
  },
  {
   "cell_type": "markdown",
   "id": "ac60066e",
   "metadata": {},
   "source": [
    "\"*No se puede enseñar nada a un hombre, sólo se le puede ayudar a descubrirse a sí mismo*\" \n",
    "\n",
    "-Galileo Galilei\n",
    "\n",
    "Hola que tal, mi nombre es Erik Gabriel Vega Cervantes y soy estudiante de \n",
    "\n",
    "\n",
    "ingeniería civil en el **Instituto Tecnológico de Estudios Superiores** \n",
    "\n",
    "\n",
    "(ITESO), actualmente a parte de estudiar durante la mañana y la tarde \n",
    "\n",
    "\n",
    "algunos días de la semana trabajo en una empresa familiar la cual se dedica \n",
    "\n",
    "\n",
    "a la distribución y fabricación de perfiles laminados.\n",
    "\n",
    "\n"
   ]
  },
  {
   "cell_type": "markdown",
   "id": "c0807a9e",
   "metadata": {},
   "source": [
    "Algunas cosas que me gusta hacer: \n",
    "\n",
    "1. Escuchar música \n",
    "2. Salir con mis amigos/compañeros \n",
    "3. Comer \n"
   ]
  },
  {
   "cell_type": "markdown",
   "id": "e6ec8da1",
   "metadata": {},
   "source": [
    "Algunos temas de interés de mi carrera son:\n",
    "\n",
    "- Naves industriales \n",
    "- Ingeniería del concreto \n",
    "- Diseño de elementos de acero "
   ]
  },
  {
   "cell_type": "markdown",
   "id": "b14e82ff",
   "metadata": {},
   "source": [
    "### Naves Industriales"
   ]
  },
  {
   "cell_type": "markdown",
   "id": "62ae9b16",
   "metadata": {},
   "source": [
    "Una nave industrial es un edificio de uso industrial que pone la producción y/o almacena los bienes industriales, junto con \n",
    "\n",
    "\n",
    "los obreros, las máquinas que los generan, el transporte interno, la salida y entrada de mercancías, etcétera \n",
    "\n",
    "\n",
    "Las naves industriales son estructuras urbanas heredadas de la Revolución Industrial, que, como su nombre lo indica, sirven \n",
    "\n",
    "\n",
    "a diversos propósitos que van desde el almacenaje de mercancías, pasando por los procesos de producción y manufactura, y \n",
    "\n",
    "\n",
    "llegando a operar como centros de distribución."
   ]
  },
  {
   "cell_type": "markdown",
   "id": "016378d0",
   "metadata": {},
   "source": [
    "![](data:image/jpeg;base64,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)"
   ]
  },
  {
   "cell_type": "markdown",
   "id": "0fb7c999",
   "metadata": {},
   "source": [
    "$ f(x)= (x+1)(x+2) $"
   ]
  }
 ],
 "metadata": {
  "kernelspec": {
   "display_name": "Python 3 (ipykernel)",
   "language": "python",
   "name": "python3"
  },
  "language_info": {
   "codemirror_mode": {
    "name": "ipython",
    "version": 3
   },
   "file_extension": ".py",
   "mimetype": "text/x-python",
   "name": "python",
   "nbconvert_exporter": "python",
   "pygments_lexer": "ipython3",
   "version": "3.11.4"
  }
 },
 "nbformat": 4,
 "nbformat_minor": 5
}
